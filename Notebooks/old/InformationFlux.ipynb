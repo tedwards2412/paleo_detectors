{
 "cells": [
  {
   "cell_type": "markdown",
   "metadata": {},
   "source": [
    "# Spectral Analysis for paper"
   ]
  },
  {
   "cell_type": "code",
   "execution_count": 1,
   "metadata": {},
   "outputs": [],
   "source": [
    "import numpy as np\n",
    "import matplotlib.pyplot as plt\n",
    "from matplotlib import rc\n",
    "import matplotlib as mpl\n",
    "from tqdm import tqdm\n",
    "import swordfish as sf\n",
    "from WIMpy import DMUtils as DMU\n",
    "from scipy.interpolate import interp1d\n",
    "from scipy.integrate import cumtrapz, quad\n",
    "from scipy.special import erf\n",
    "from paleo.paleopy_classes import *\n",
    "import paleo.paleopy as paleopy\n",
    "\n",
    "rc('text', usetex=True)\n",
    "rc('font',**{'family':'sans-serif','sans-serif':['cmr']})\n",
    "rc('font',**{'family':'serif','serif':['cmr']})\n",
    "rc('font', size=16)\n",
    "#mpl.rcParams.update({'font.size': 16,'font.family':'serif'})\n",
    "\n",
    "mpl.rcParams['xtick.top'] = True\n",
    "mpl.rcParams['ytick.right'] = True\n",
    "\n",
    "#%matplotlib inline"
   ]
  },
  {
   "cell_type": "markdown",
   "metadata": {},
   "source": [
    "#### Load in the relevant rocks"
   ]
  },
  {
   "cell_type": "code",
   "execution_count": 2,
   "metadata": {},
   "outputs": [],
   "source": [
    "Zab = Mineral(\"Zabuyelite\")\n",
    "Syl = Mineral(\"Sylvanite\")\n",
    "Sinj = Mineral(\"Sinjarite\")\n",
    "Oliv = Mineral(\"Olivine\")\n",
    "#Gyp = Mineral(\"Gypsum\")"
   ]
  },
  {
   "cell_type": "markdown",
   "metadata": {},
   "source": [
    "#### Calculating information flux"
   ]
  },
  {
   "cell_type": "code",
   "execution_count": 3,
   "metadata": {},
   "outputs": [],
   "source": [
    "def MakeSF(mineral, sigma, exposure):\n",
    "    systematics = [1.0, 1.0, 1.0, 1.0, 1.0, 1.0, 1.0, 1.0, 1.0, 1.0, 1.0, 1e-3, 1e-3]\n",
    "    dRdx_BG = paleopy.GetBackground(mineral, sigma)\n",
    "    SF = sf.Swordfish(dRdx_BG, T=systematics, E=np.ones_like(dRdx_BG[0])*exposure)\n",
    "    return SF\n",
    "    \n",
    "def GetInformationFlux(mineral, m_x, sigma, exposure, SF):\n",
    "    ref_sig = 1e-47\n",
    "    sig = paleopy.GetSignal(mineral, sigma, m_DM=m_x, xsec=ref_sig)\n",
    "    flux = SF.infoflux(sig)\n",
    "    \n",
    "    return flux"
   ]
  },
  {
   "cell_type": "code",
   "execution_count": null,
   "metadata": {},
   "outputs": [],
   "source": []
  },
  {
   "cell_type": "markdown",
   "metadata": {},
   "source": [
    "#### Plotting information flux"
   ]
  },
  {
   "cell_type": "code",
   "execution_count": 5,
   "metadata": {},
   "outputs": [],
   "source": [
    "def PlotInformationFlux(mineral):\n",
    "    SF_1nm = MakeSF(mineral, 1.0, 1.0)\n",
    "    SF_15nm = MakeSF(mineral, 15.0, 100.0)\n",
    "    \n",
    "    mlist = [5, 50, 500]\n",
    "    \n",
    "    flux_1nm = [GetInformationFlux(mineral, mx, 1.0, 1.0, SF_1nm) for mx in mlist]\n",
    "    flux_15nm = [GetInformationFlux(mineral, mx, 15.0, 100.0, SF_15nm) for mx in mlist]\n",
    "    \n",
    "\n",
    "    sigma_list = [1.0, 15.0]\n",
    "    exp_list = [1.0, 100.0]\n",
    "    flux_list = [flux_1nm, flux_15nm]\n",
    "    \n",
    "    \n",
    "    for j in range(2):\n",
    "    \n",
    "        sig = sigma_list[j]\n",
    "        exp = exp_list[j]\n",
    "        flux = flux_list[j]\n",
    "    \n",
    "    \n",
    "        plt.figure(figsize=(7,5))\n",
    "\n",
    "        ax = plt.gca()\n",
    "\n",
    "        ax.set_xscale(\"log\")\n",
    "        ax.set_yscale(\"log\")\n",
    "\n",
    "        for i in range(3):\n",
    "            ax.step(paleopy.calcBins(sig)[:-1] + sig/2, flux[i], label=r'$m_\\chi = ' + str(mlist[i]) + \" $ GeV\")\n",
    "\n",
    "        plt.xlabel(\"$x_T ~[\\mathrm{nm}]$\")\n",
    "        plt.ylabel(\"Information Flux [A.U.]\")\n",
    "\n",
    "        plt.title(mineral.name)\n",
    "\n",
    "        labtext = r'$\\sigma_{x_T} = ' + str(int(sig)) + '\\,\\mathrm{nm}; \\,\\,\\epsilon = ' + str(int(exp)) + '\\,\\mathrm{kg}\\,\\mathrm{Myr}$'\n",
    "        plt.text(0.05, 0.9, labtext, fontsize=16, ha='left',transform=ax.transAxes)\n",
    "\n",
    "        plt.legend(fontsize=14,loc='upper right')\n",
    "\n",
    "        plt.xlim(1, 1000)\n",
    "        plt.ylim(1e-6, 1.05)\n",
    "\n",
    "        outfile = '../plots/InfoFlux_' + mineral.name + '_exp' + str(exp) + '_sig' + str(sig) + '.pdf'\n",
    "        \n",
    "        plt.savefig(outfile, bbox_inches=\"tight\")\n",
    "\n",
    "        plt.show()\n",
    "    "
   ]
  },
  {
   "cell_type": "markdown",
   "metadata": {},
   "source": [
    "--------------"
   ]
  },
  {
   "cell_type": "markdown",
   "metadata": {},
   "source": [
    "## Sinjarite"
   ]
  },
  {
   "cell_type": "code",
   "execution_count": 6,
   "metadata": {},
   "outputs": [
    {
     "name": "stdout",
     "output_type": "stream",
     "text": [
      "lambda_238 [yr^-1]: 1.551358953804712e-10\n",
      "lambda_234 [yr^-1]: 2.82341010411383e-06\n",
      "224914555.7512617\n"
     ]
    },
    {
     "name": "stderr",
     "output_type": "stream",
     "text": [
      "/Users/bradkav/anaconda3/lib/python3.6/site-packages/scipy/integrate/quadpack.py:385: IntegrationWarning: The maximum number of subdivisions (50) has been achieved.\n",
      "  If increasing the limit yields no improvement it is advised to analyze \n",
      "  the integrand in order to determine the difficulties.  If the position of a \n",
      "  local difficulty can be determined (singularity, discontinuity) one will \n",
      "  probably gain from splitting up the interval and calling the integrator \n",
      "  on the subranges.  Perhaps a special-purpose integrator should be used.\n",
      "  warnings.warn(msg, IntegrationWarning)\n"
     ]
    },
    {
     "name": "stdout",
     "output_type": "stream",
     "text": [
      "lambda_238 [yr^-1]: 1.551358953804712e-10\n",
      "lambda_234 [yr^-1]: 2.82341010411383e-06\n",
      "224671114.9300707\n"
     ]
    },
    {
     "data": {
      "image/png": "[encoded data removed]",
      "text/plain": [
       "<matplotlib.figure.Figure at 0x10c7e5fd0>"
      ]
     },
     "metadata": {},
     "output_type": "display_data"
    },
    {
     "data": {
      "image/png": "[encoded data removed]",
      "text/plain": [
       "<matplotlib.figure.Figure at 0x10d477a20>"
      ]
     },
     "metadata": {},
     "output_type": "display_data"
    }
   ],
   "source": [
    "PlotInformationFlux(Sinj)"
   ]
  },
  {
   "cell_type": "markdown",
   "metadata": {},
   "source": [
    "#### Optimal bin position"
   ]
  },
  {
   "cell_type": "code",
   "execution_count": 65,
   "metadata": {},
   "outputs": [
    {
     "name": "stderr",
     "output_type": "stream",
     "text": [
      "/Users/bradkav/anaconda3/lib/python3.6/site-packages/scipy/integrate/quadpack.py:385: IntegrationWarning: The maximum number of subdivisions (50) has been achieved.\n",
      "  If increasing the limit yields no improvement it is advised to analyze \n",
      "  the integrand in order to determine the difficulties.  If the position of a \n",
      "  local difficulty can be determined (singularity, discontinuity) one will \n",
      "  probably gain from splitting up the interval and calling the integrator \n",
      "  on the subranges.  Perhaps a special-purpose integrator should be used.\n",
      "  warnings.warn(msg, IntegrationWarning)\n",
      "/Users/bradkav/anaconda3/lib/python3.6/site-packages/scipy/integrate/quadpack.py:385: IntegrationWarning: The occurrence of roundoff error is detected, which prevents \n",
      "  the requested tolerance from being achieved.  The error may be \n",
      "  underestimated.\n",
      "  warnings.warn(msg, IntegrationWarning)\n"
     ]
    }
   ],
   "source": [
    "SF_Sinj_15nm = MakeSF(Sinj, 15.0, 100.0)\n",
    "\n",
    "mlist = np.logspace(-0.5, 3, 50)\n",
    "\n",
    "flux_15nm = [GetInformationFlux(Sinj, mx, 15.0, 100.0, SF_Sinj_15nm) for mx in mlist]"
   ]
  },
  {
   "cell_type": "code",
   "execution_count": 66,
   "metadata": {},
   "outputs": [],
   "source": [
    "bin_centres = paleopy.calcBins(15.0)[:-1] + 15.0/2\n",
    "\n",
    "fluxmax = np.array([bin_centres[np.argmax(flux_15nm[i])] for i in range(len(mlist))])"
   ]
  },
  {
   "cell_type": "code",
   "execution_count": 67,
   "metadata": {},
   "outputs": [
    {
     "name": "stdout",
     "output_type": "stream",
     "text": [
      "[ 90.  30.  15.  30.  30.  45.  30.  30.  15.  15.  15.  15.  30.  15.\n",
      "  45.  75.  75.  15.  90.  15.  15.  75.  75.  90.  60.  60.  45.  45.\n",
      " 105. 105. 120. 120. 120. 135. 135. 135. 135. 135. 150. 150. 150. 150.\n",
      " 150. 150. 150. 150. 150. 150. 150. 150.]\n"
     ]
    }
   ],
   "source": [
    "print(fluxmax)"
   ]
  },
  {
   "cell_type": "code",
   "execution_count": 79,
   "metadata": {},
   "outputs": [
    {
     "data": {
      "image/png": "[encoded data removed]",
      "text/plain": [
       "<matplotlib.figure.Figure at 0x10b3867b8>"
      ]
     },
     "metadata": {},
     "output_type": "display_data"
    }
   ],
   "source": [
    "plt.figure()\n",
    "\n",
    "ax = plt.gca()\n",
    "\n",
    "ax.set_xscale('log')\n",
    "ax.set_yscale('log')\n",
    "\n",
    "plt.step(mlist, fluxmax)\n",
    "\n",
    "plt.ylim(1, 1000)\n",
    "\n",
    "plt.xlabel(r'$m_\\chi \\, \\mathrm{[GeV]}$')\n",
    "plt.ylabel(r'Max. Info Flux at $x_T$~[nm]')\n",
    "\n",
    "plt.title(Sinj.name)\n",
    "\n",
    "sig = 15.0\n",
    "exp = 100.0\n",
    "\n",
    "labtext = r'$\\sigma_{x_T} = ' + str(int(sig)) + '\\,\\mathrm{nm}; \\,\\,\\epsilon = ' + str(int(exp)) + '\\,\\mathrm{kg}\\,\\mathrm{Myr}$'\n",
    "plt.text(0.05, 0.9, labtext, fontsize=16, ha='left',transform=ax.transAxes)\n",
    "\n",
    "plt.savefig('../plots/MaxInfoFlux_Sinjarite_exp' + str(exp) + '_sig' + str(sig) + '.pdf', bbox_inches='tight')\n",
    "\n",
    "plt.show()"
   ]
  },
  {
   "cell_type": "code",
   "execution_count": 74,
   "metadata": {},
   "outputs": [
    {
     "name": "stderr",
     "output_type": "stream",
     "text": [
      "/Users/bradkav/anaconda3/lib/python3.6/site-packages/scipy/integrate/quadpack.py:385: IntegrationWarning: The maximum number of subdivisions (50) has been achieved.\n",
      "  If increasing the limit yields no improvement it is advised to analyze \n",
      "  the integrand in order to determine the difficulties.  If the position of a \n",
      "  local difficulty can be determined (singularity, discontinuity) one will \n",
      "  probably gain from splitting up the interval and calling the integrator \n",
      "  on the subranges.  Perhaps a special-purpose integrator should be used.\n",
      "  warnings.warn(msg, IntegrationWarning)\n"
     ]
    }
   ],
   "source": [
    "SF_Sinj_1nm = MakeSF(Sinj, 1.0, 1.0)\n",
    "\n",
    "mlist = np.logspace(-0.5, 3, 50)\n",
    "\n",
    "flux_1nm = [GetInformationFlux(Sinj, mx, 1.0, 1.0, SF_Sinj_1nm) for mx in mlist]"
   ]
  },
  {
   "cell_type": "code",
   "execution_count": 75,
   "metadata": {},
   "outputs": [],
   "source": [
    "bin_centres = paleopy.calcBins(1.0)[:-1] + 1.0/2\n",
    "\n",
    "fluxmax_1nm = np.array([bin_centres[np.argmax(flux_1nm[i])] for i in range(len(mlist))])"
   ]
  },
  {
   "cell_type": "code",
   "execution_count": 80,
   "metadata": {},
   "outputs": [
    {
     "data": {
      "image/png": "[encoded data removed]",
      "text/plain": [
       "<matplotlib.figure.Figure at 0x10bd08470>"
      ]
     },
     "metadata": {},
     "output_type": "display_data"
    }
   ],
   "source": [
    "plt.figure()\n",
    "\n",
    "ax = plt.gca()\n",
    "\n",
    "ax.set_xscale('log')\n",
    "ax.set_yscale('log')\n",
    "\n",
    "plt.step(mlist, fluxmax_1nm)\n",
    "\n",
    "plt.ylim(1, 1000)\n",
    "\n",
    "plt.xlabel(r'$m_\\chi \\, \\mathrm{[GeV]}$')\n",
    "plt.ylabel(r'Max. Info Flux at $x_T$~[nm]')\n",
    "\n",
    "plt.title(Sinj.name)\n",
    "\n",
    "sig = 1.0\n",
    "exp = 1.0\n",
    "\n",
    "labtext = r'$\\sigma_{x_T} = ' + str(int(sig)) + '\\,\\mathrm{nm}; \\,\\,\\epsilon = ' + str(int(exp)) + '\\,\\mathrm{kg}\\,\\mathrm{Myr}$'\n",
    "plt.text(0.05, 0.9, labtext, fontsize=16, ha='left',transform=ax.transAxes)\n",
    "\n",
    "plt.savefig('../plots/MaxInfoFlux_Sinjarite_exp' + str(exp) + '_sig' + str(sig) + '.pdf', bbox_inches='tight')\n",
    "\n",
    "plt.show()"
   ]
  },
  {
   "cell_type": "code",
   "execution_count": null,
   "metadata": {},
   "outputs": [],
   "source": []
  }
 ],
 "metadata": {
  "kernelspec": {
   "display_name": "Python 3",
   "language": "python",
   "name": "python3"
  },
  "language_info": {
   "codemirror_mode": {
    "name": "ipython",
    "version": 3
   },
   "file_extension": ".py",
   "mimetype": "text/x-python",
   "name": "python",
   "nbconvert_exporter": "python",
   "pygments_lexer": "ipython3",
   "version": "3.6.4"
  }
 },
 "nbformat": 4,
 "nbformat_minor": 2
}
