{
 "cells": [
  {
   "cell_type": "markdown",
   "metadata": {},
   "source": [
    "# Calculating the rate as a function of track length"
   ]
  },
  {
   "cell_type": "code",
   "execution_count": 69,
   "metadata": {},
   "outputs": [],
   "source": [
    "import numpy as np\n",
    "import matplotlib.pyplot as plt\n",
    "from matplotlib import rc\n",
    "from tqdm import tqdm\n",
    "import swordfish as sf\n",
    "from WIMpy import DMUtils as DMU\n",
    "\n",
    "# rc('text', usetex=True)\n",
    "# rc('font',**{'family':'sans-serif','sans-serif':['cmr']})\n",
    "# rc('font',**{'family':'serif','serif':['cmr']})\n",
    "%matplotlib inline"
   ]
  },
  {
   "cell_type": "markdown",
   "metadata": {},
   "source": [
    "To try match 1806.05991 we are going to consider the Halite material (since this is what they present). Halite is made of NaCl but we dont know the Cl form factor now so we use Na23 as a starting point."
   ]
  },
  {
   "cell_type": "code",
   "execution_count": 70,
   "metadata": {},
   "outputs": [],
   "source": [
    "E_list = np.logspace(-1, 3, 30) # keV\n",
    "# m_x = 500.0 #GeV\n",
    "\n",
    "def calcdRdE(ER_keV, m_x, cp, cn, **kwargs):\n",
    "    #Load in the list of nuclear spins, atomic masses and mass fractions\n",
    "    nuclei_Halite = [\"Na23\"]\n",
    "    frac_list_Halite = [1.0]\n",
    "    frac_vals = dict(zip(nuclei_Halite, frac_list_Halite))\n",
    "\n",
    "    dRdE = np.zeros_like(ER_keV)\n",
    "    for nuc in nuclei_Halite:\n",
    "        dRdE += frac_vals[nuc]*DMU.dRdE_NREFT(ER_keV, m_x, cp, cn, nuc, **kwargs)\n",
    "    return dRdE"
   ]
  },
  {
   "cell_type": "code",
   "execution_count": 93,
   "metadata": {},
   "outputs": [
    {
     "data": {
      "image/png": "[encoded data removed]",
      "text/plain": [
       "<Figure size 432x288 with 1 Axes>"
      ]
     },
     "metadata": {},
     "output_type": "display_data"
    }
   ],
   "source": [
    "# cp = np.zeros(11)\n",
    "# cp[0] = 1e-8\n",
    "# cn = cp\n",
    "\n",
    "# dRdE = calcdRdE(E_list, 10, cp, cn)\n",
    "pNa = 11\n",
    "nNa = pNa+1\n",
    "dRdE = DMU.dRdE_standard(E_list, pNa, nNa, 500, 1e-45)\n",
    "plt.loglog(E_list, dRdE)\n",
    "plt.show()"
   ]
  },
  {
   "cell_type": "markdown",
   "metadata": {},
   "source": [
    "We have the recoil rate, as a function of recoil energy but the observable is actually the recoils as a function of track length. The translation is done using \n",
    "\n",
    "$$ x_t(E_R) = \\int_0^{E_R} dE \\left(\\frac{dE}{dx_t}(E)\\right)^{-1}$$\n",
    "\n",
    "where $\\frac{dE}{dx_t}$ is given by [this paper](https://journals.aps.org/prb/pdf/10.1103/PhysRevB.15.2458),\n",
    "\n",
    "$$ \\frac{dE}{dx_t} = N \\int_0^{T_m} T \\sigma(T) dT$$\n",
    "\n",
    "where $T_m = \\gamma E$, $\\gamma=\\frac{4 M_1 M_2}{(M_1+M_2)^2}$, $\\sigma(T) = \\sigma(\\theta)\\frac{4 \\pi}{\\gamma E}$, $N$ is the atomic density of the target, $M_1$ is the mass of the stopping nuclei, and $M_2$ is the mass of the target nuclei i.e. 23 GeV for Na23. $T = \\gamma E\\sin^2(\\theta/2) $ and, finally, \n",
    "\n",
    "$$\\theta = \\pi - 2\\int^\\inf_{r_0} \\frac{p dr}{r^2\\left[1-V(r)/E_c-p^2/r^2\\right]^{1/2}}$$\n",
    "\n",
    "We also need $\\sigma(\\theta) = \\frac{-p}{\\sin\\theta}\\frac{dp}{d\\theta}$, $E_c=\\frac{E M_1}{(M_1+M_2)}$, $r_0$ is given by the root of $1-V(r)/E_c-p^2/r^2$. I'll start by considering a sodium nucleus being stopped in the potential of another sodium nucleus"
   ]
  },
  {
   "cell_type": "code",
   "execution_count": 72,
   "metadata": {},
   "outputs": [],
   "source": [
    "from scipy.integrate import quad\n",
    "from scipy import optimize\n",
    "# p is the impact parameter in nanometres\n",
    "M_Na = 23.*1.e6 # keV\n",
    "m_DM = 500.*1.e6 # keV\n",
    "ZNa = 11\n",
    "e = 0.303 # No units\n",
    "INVnm_to_keV = 0.197326979 # change inverse nanometres to keV (1 nm^-1 * hbar * c to keV)\n",
    "V = lambda r: (ZNa**2.*e**2./r)*np.exp(-r/1.)*INVnm_to_keV # Add conversion factor to get V in keV\n",
    "\n",
    "def calc_theta(p, E):\n",
    "    \"\"\"\n",
    "    This corresponds to equation 4 of the paper. We calculate theta\n",
    "    for a given impact parameter and energy input\n",
    "    \"\"\"\n",
    "    Ec = M_Na*E/(2*M_Na)\n",
    "    root = lambda r: 1-V(r)/Ec-p**2/r**2\n",
    "    r0temp = optimize.brentq(root, 0.001, 100000)\n",
    "    r0 = r0temp + 0.01*r0temp # for the numerics of the integral this\n",
    "    # needs to be slightly higher than the root\n",
    "    \n",
    "    integrand = lambda r: p/r**2./(1-V(r)/Ec-p**2/r**2)**0.5\n",
    "    I = quad(integrand,r0,np.inf)[0]\n",
    "    return np.pi - 2.*I\n",
    "\n",
    "def calc_dpdtheta(p, E):\n",
    "    \"\"\"\n",
    "    This corresponds to second part of equation 5 of the paper.\n",
    "    We simply find the derivative of theta with respect to p and\n",
    "    take the inverse to get dp/dtheta\n",
    "    \"\"\"\n",
    "    Ec = M_Na*E/(2*M_Na)\n",
    "    root = lambda r: 1-V(r)/Ec-p**2/r**2\n",
    "    r0temp = optimize.brentq(root, 0.001, 100000)\n",
    "    r0 = r0temp + 0.01*r0temp # for the numerics of the integral this \n",
    "    # needs to be slightly higher than the root\n",
    "    \n",
    "    dp = np.array([p-p*0.01,p,p+p*0.01])\n",
    "    pdiv = np.zeros_like(dp)\n",
    "    for i, ptemp in enumerate(dp):\n",
    "        integrand = lambda r: ptemp/r**2./(1-V(r)/Ec-ptemp**2/r**2)**0.5\n",
    "        pdiv[i] = -2*quad(integrand,r0,np.inf)[0]\n",
    "    \n",
    "    dpdtheta = np.gradient(pdiv)[1]\n",
    "    return 1./dpdtheta\n",
    "\n",
    "def calc_sigmaT(T, E, p):\n",
    "    \"\"\"\n",
    "    This corresponds to one of the terms in the integrand of equation 7 of the paper.\n",
    "    \"\"\"\n",
    "    gamma = 4.*M_Na**2./((2*M_Na)**2.)\n",
    "    theta = calc_theta(p, E)\n",
    "    sigma_theta = -p*calc_dpdtheta(p, E)/np.sin(theta)\n",
    "    return 4.*np.pi*sigma_theta/gamma/E\n",
    "\n",
    "def calc_dEdx(E, p):\n",
    "    \"\"\"\n",
    "    This corresponds to equation 7 of the paper.\n",
    "    \"\"\"\n",
    "    N = 25.40902838311586 # N nm^-3 Number of sodium atoms per nano meter cubed\n",
    "    gamma = 4.*M_Na**2./((2.*M_Na)**2.)\n",
    "    Tm = gamma*E\n",
    "    inte = lambda T: T*calc_sigmaT(T, E, p)\n",
    "    return N*quad(inte, 0., Tm)[0]"
   ]
  },
  {
   "cell_type": "code",
   "execution_count": null,
   "metadata": {},
   "outputs": [],
   "source": []
  },
  {
   "cell_type": "code",
   "execution_count": 73,
   "metadata": {},
   "outputs": [
    {
     "data": {
      "image/png": "[encoded data removed]",
      "text/plain": [
       "<Figure size 432x288 with 1 Axes>"
      ]
     },
     "metadata": {},
     "output_type": "display_data"
    },
    {
     "name": "stdout",
     "output_type": "stream",
     "text": [
      "[-65.68314578 -14.41775959  -2.0612099    0.70581047   0.99066117\n",
      "   0.99902917   0.99987461   0.99998381   0.99999791   0.99999973]\n"
     ]
    },
    {
     "data": {
      "image/png": "[encoded data removed]",
      "text/plain": [
       "<Figure size 432x288 with 1 Axes>"
      ]
     },
     "metadata": {},
     "output_type": "display_data"
    }
   ],
   "source": [
    "Ec = M_Na*1./(2*M_Na)\n",
    "root = lambda r: 1-V(r)/Ec-p**2/r**2\n",
    "rtest = np.logspace(-1,3,10)\n",
    "plt.semilogx(rtest,V(rtest))\n",
    "plt.ylabel(\"Potential [keV]\")\n",
    "plt.xlabel(\"r [nm]\")\n",
    "plt.show()\n",
    "\n",
    "print(root(rtest))\n",
    "plt.semilogx(rtest,root(rtest))\n",
    "plt.ylabel(\"Denominator\")\n",
    "plt.xlabel(\"r [nm]\")\n",
    "plt.show()"
   ]
  },
  {
   "cell_type": "code",
   "execution_count": 94,
   "metadata": {},
   "outputs": [
    {
     "name": "stdout",
     "output_type": "stream",
     "text": [
      "0\n"
     ]
    },
    {
     "name": "stderr",
     "output_type": "stream",
     "text": [
      "/usr/local/lib/python3.6/site-packages/scipy/integrate/quadpack.py:385: IntegrationWarning: The maximum number of subdivisions (50) has been achieved.\n",
      "  If increasing the limit yields no improvement it is advised to analyze \n",
      "  the integrand in order to determine the difficulties.  If the position of a \n",
      "  local difficulty can be determined (singularity, discontinuity) one will \n",
      "  probably gain from splitting up the interval and calling the integrator \n",
      "  on the subranges.  Perhaps a special-purpose integrator should be used.\n",
      "  warnings.warn(msg, IntegrationWarning)\n"
     ]
    },
    {
     "name": "stdout",
     "output_type": "stream",
     "text": [
      "1\n",
      "2\n",
      "3\n",
      "4\n",
      "5\n",
      "6\n",
      "7\n",
      "8\n",
      "9\n",
      "10\n",
      "11\n",
      "12\n",
      "13\n",
      "14\n",
      "15\n",
      "16\n",
      "17\n",
      "18\n",
      "19\n",
      "20\n",
      "21\n",
      "22\n",
      "23\n",
      "24\n",
      "25\n",
      "26\n",
      "27\n",
      "28\n",
      "29\n"
     ]
    }
   ],
   "source": [
    "cp = np.zeros(11)\n",
    "cp[0] = 1e-6\n",
    "cn = cp\n",
    "m_dm = 500e6 # keV i.e. 10 GeV\n",
    "p = 1/(25.**(1./3.)-1) # Impact parameter in nm\n",
    "\n",
    "################ Calculting the rate\n",
    "# dRdE = calcdRdE(E_list, m_dm, cp, cn)\n",
    "dRdE = DMU.dRdE_standard(E_list, pNa, nNa, 500, 1e-45)\n",
    "dEdx = np.zeros_like(E_list)\n",
    "for i,E in enumerate(E_list):\n",
    "    dEdx[i] = calc_dEdx(E, p)\n",
    "\n",
    "dRdx = dRdE*dEdx\n",
    "\n",
    "################ Calculting the track lengths\n",
    "xlist = np.zeros_like(E_list)\n",
    "temp = lambda E: calc_dEdx(E, p)**-1\n",
    "for i,E in enumerate(E_list):\n",
    "    print(i)\n",
    "    xlist[i] = quad(temp,0.,E)[0]"
   ]
  },
  {
   "cell_type": "code",
   "execution_count": 95,
   "metadata": {},
   "outputs": [
    {
     "name": "stdout",
     "output_type": "stream",
     "text": [
      "[6.85602913e-05 7.76931447e-05 8.87147691e-05 1.02319828e-04\n",
      " 1.20171921e-04 1.42919052e-04 1.73524950e-04 2.14774285e-04\n",
      " 2.71595404e-04 3.50290480e-04 4.57835407e-04 6.01174312e-04\n",
      " 7.83180771e-04 1.00098974e-03 1.24541568e-03 1.50412675e-03\n",
      " 1.76611682e-03 2.02458217e-03 2.27461971e-03 2.51503379e-03\n",
      " 2.74651414e-03 2.97060807e-03 3.18862092e-03 3.40261968e-03\n",
      " 3.61330860e-03 3.82192220e-03 4.02902362e-03 4.23637417e-03\n",
      " 4.44293206e-03 4.64959771e-03] [1.00000000e-01 1.37382380e-01 1.88739182e-01 2.59294380e-01\n",
      " 3.56224789e-01 4.89390092e-01 6.72335754e-01 9.23670857e-01\n",
      " 1.26896100e+00 1.74332882e+00 2.39502662e+00 3.29034456e+00\n",
      " 4.52035366e+00 6.21016942e+00 8.53167852e+00 1.17210230e+01\n",
      " 1.61026203e+01 2.21221629e+01 3.03919538e+01 4.17531894e+01\n",
      " 5.73615251e+01 7.88046282e+01 1.08263673e+02 1.48735211e+02\n",
      " 2.04335972e+02 2.80721620e+02 3.85662042e+02 5.29831691e+02\n",
      " 7.27895384e+02 1.00000000e+03]\n"
     ]
    }
   ],
   "source": [
    "print(xlist, E_list)"
   ]
  },
  {
   "cell_type": "code",
   "execution_count": 96,
   "metadata": {},
   "outputs": [
    {
     "data": {
      "image/png": "[encoded data removed]",
      "text/plain": [
       "<Figure size 432x288 with 1 Axes>"
      ]
     },
     "metadata": {},
     "output_type": "display_data"
    },
    {
     "data": {
      "image/png": "[encoded data removed]",
      "text/plain": [
       "<Figure size 432x288 with 1 Axes>"
      ]
     },
     "metadata": {},
     "output_type": "display_data"
    }
   ],
   "source": [
    "plt.loglog(E_list, xlist)\n",
    "plt.xlabel(\"E [keV]\")\n",
    "plt.ylabel(\"x [nm]\")\n",
    "plt.show()\n",
    "plt.loglog(E_list, dEdx)\n",
    "plt.xlabel(\"E [kev]\")\n",
    "plt.ylabel(\"dEdx [kev nm-1]\")\n",
    "plt.show()"
   ]
  },
  {
   "cell_type": "code",
   "execution_count": 101,
   "metadata": {},
   "outputs": [
    {
     "data": {
      "image/png": "[encoded data removed]",
      "text/plain": [
       "<Figure size 432x288 with 1 Axes>"
      ]
     },
     "metadata": {},
     "output_type": "display_data"
    }
   ],
   "source": [
    "dRdx = dRdE*dEdx\n",
    "plt.loglog(xlist, dRdx*1e6) # 1e6 here to change to per Myr\n",
    "plt.ylabel(r\"dRdx [nm−1 kg−1 Myr−1]\")\n",
    "plt.xlabel(r\"x [nm]\")\n",
    "x, dRdx_test = np.loadtxt(\"../Data/Zabuyelite_500GeV.txt\", unpack=True)\n",
    "plt.loglog(x,dRdx_test)\n",
    "plt.ylabel(r\"dRdx [nm−1 kg−1 Myr−1]\")\n",
    "plt.xlabel(r\"x [nm]\")\n",
    "plt.show()"
   ]
  },
  {
   "cell_type": "code",
   "execution_count": null,
   "metadata": {},
   "outputs": [],
   "source": []
  }
 ],
 "metadata": {
  "kernelspec": {
   "display_name": "Python 3",
   "language": "python",
   "name": "python3"
  },
  "language_info": {
   "codemirror_mode": {
    "name": "ipython",
    "version": 3
   },
   "file_extension": ".py",
   "mimetype": "text/x-python",
   "name": "python",
   "nbconvert_exporter": "python",
   "pygments_lexer": "ipython3",
   "version": "3.6.4"
  }
 },
 "nbformat": 4,
 "nbformat_minor": 2
}
